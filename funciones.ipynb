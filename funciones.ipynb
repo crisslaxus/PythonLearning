{
 "cells": [
  {
   "cell_type": "code",
   "execution_count": 1,
   "metadata": {},
   "outputs": [],
   "source": [
    "import math\n",
    "import time\n",
    "import datetime"
   ]
  },
  {
   "cell_type": "code",
   "execution_count": 5,
   "metadata": {},
   "outputs": [],
   "source": [
    "def sleep_time(siclos ,t=1):\n",
    "    for i in range(siclos):\n",
    "        print('>. ', i)\n",
    "        time.sleep(t)"
   ]
  },
  {
   "cell_type": "code",
   "execution_count": 7,
   "metadata": {},
   "outputs": [
    {
     "name": "stdout",
     "output_type": "stream",
     "text": [
      "> a\n",
      "a\n",
      "> b\n",
      "b\n",
      "> c\n",
      "c\n",
      "> q\n"
     ]
    }
   ],
   "source": [
    "while True:\n",
    "    line = input('> ')\n",
    "    if line == 'q':\n",
    "        break\n",
    "    else:\n",
    "        print(line)"
   ]
  },
  {
   "cell_type": "code",
   "execution_count": 8,
   "metadata": {},
   "outputs": [
    {
     "name": "stdout",
     "output_type": "stream",
     "text": [
      "> a\n",
      "Ingrese un número...\n",
      "> f\n",
      "Ingrese un número...\n",
      "> 3\n",
      "> 4\n",
      "> 5\n",
      "> 9\n",
      "> 10\n",
      "> q\n"
     ]
    }
   ],
   "source": [
    "curso_nota = list()\n",
    "while True:\n",
    "    nota = input(\"> \")\n",
    "    if nota == 'q':\n",
    "        break\n",
    "    else:\n",
    "        try:\n",
    "            nota = int(nota)\n",
    "            curso_nota.append(nota)\n",
    "        except:\n",
    "            print(\"Ingrese un número...\")"
   ]
  },
  {
   "cell_type": "code",
   "execution_count": 6,
   "metadata": {},
   "outputs": [],
   "source": [
    "def registro_nota():\n",
    "    nota = list()\n",
    "    count = 0\n",
    "    prom = 0\n",
    "    while True:\n",
    "        entrada_nota = input('[0-10] <{0}>: '.format(count))\n",
    "        if entrada_nota == 'q':\n",
    "            break\n",
    "        else:\n",
    "            try:\n",
    "                entrada_nota = int(entrada_nota)\n",
    "                if entrada_nota>=0 and entrada_nota<=10:\n",
    "                    nota.append(entrada_nota)\n",
    "                    count += 1\n",
    "                else:\n",
    "                    print(\"Nota fuera de rango\\n\")\n",
    "            except:\n",
    "                print(\"Introdusca nota numerica\")\n",
    "    \n",
    "    print()\n",
    "    # Notas Ingresadas\n",
    "    print(\"Numero de notas Ingresadas: \", count)\n",
    "    \n",
    "    # Calcular promedio ponderado\n",
    "    for n in nota:\n",
    "        prom += n\n",
    "    print(\"Promedio: \", prom/count)\n",
    "    \n",
    "    # Maxima nota\n",
    "    print(\"Maxima nota: \", max(nota))\n",
    "    print(\"Minima Nota: \", min(nota))\n",
    "        "
   ]
  },
  {
   "cell_type": "code",
   "execution_count": 5,
   "metadata": {
    "scrolled": true
   },
   "outputs": [
    {
     "name": "stdout",
     "output_type": "stream",
     "text": [
      "[0-10] <0>: 4\n",
      "[0-10] <1>: 2\n",
      "[0-10] <2>: 1\n",
      "[0-10] <3>: 9\n",
      "[0-10] <4>: 19\n",
      "Nota fuera de rango\n",
      "\n",
      "[0-10] <4>: r\n",
      "Introdusca nota numerica\n",
      "[0-10] <4>: t\n",
      "Introdusca nota numerica\n",
      "[0-10] <4>: 7\n",
      "[0-10] <5>: 8\n",
      "[0-10] <6>: 9\n",
      "[0-10] <7>: 2\n",
      "[0-10] <8>: 6\n",
      "[0-10] <9>: q\n",
      "Numero de notas Ingresadas:  9\n",
      "Promedio:  5.333333333333333\n",
      "Maxima nota:  9\n",
      "Minima Nota:  1\n"
     ]
    }
   ],
   "source": [
    "registro_nota()"
   ]
  },
  {
   "cell_type": "code",
   "execution_count": 9,
   "metadata": {},
   "outputs": [
    {
     "name": "stdout",
     "output_type": "stream",
     "text": [
      "digito: q\n"
     ]
    }
   ],
   "source": [
    "while True:\n",
    "    line = input(\"digito: \")\n",
    "    if line=='q':\n",
    "        break\n",
    "    else:\n",
    "        try:\n",
    "            line = int(line)\n",
    "            if line == 0:\n",
    "                print(\"Neutro\")\n",
    "            elif line%2 == 0 and line != 0:\n",
    "                print(\"Par!\")\n",
    "            else:\n",
    "                continue\n",
    "        except:\n",
    "            print(\"Solo digitos...\")"
   ]
  },
  {
   "cell_type": "code",
   "execution_count": 15,
   "metadata": {},
   "outputs": [
    {
     "name": "stdout",
     "output_type": "stream",
     "text": [
      "Mayor:  9\n",
      "Mayor:  9\n",
      "Mayor:  12\n",
      "Mayor:  12\n",
      "Mayor:  22\n",
      "Mayor:  45\n",
      "Mayor:  45\n",
      "Mayor:  45\n",
      "Mayor:  45\n",
      "Mayor:  45\n",
      "Mayor:  45\n"
     ]
    }
   ],
   "source": [
    "mayor = None\n",
    "for i in [9,3,12,4,22,45,32,2,1,4,5]:\n",
    "    if mayor is None or i>mayor:\n",
    "        mayor = i\n",
    "    print('Mayor: ', mayor)"
   ]
  },
  {
   "cell_type": "code",
   "execution_count": 1,
   "metadata": {},
   "outputs": [
    {
     "name": "stdout",
     "output_type": "stream",
     "text": [
      "Minimo:  9\n",
      "Minimo:  8\n",
      "Minimo:  2\n",
      "Minimo:  2\n",
      "Minimo:  2\n",
      "Minimo:  2\n",
      "Minimo:  0\n",
      "Minimo:  0\n",
      "Minimo:  0\n",
      "Minimo:  0\n",
      "Minimo:  -1\n"
     ]
    }
   ],
   "source": [
    "def minimo(num):\n",
    "    minimo = None\n",
    "    for i in num:\n",
    "        if minimo==None or i<minimo:\n",
    "            minimo = i\n",
    "        print('Minimo: ',minimo)\n",
    "minimo([9,8,2,4,6,5,0,7,4,34,-1])          "
   ]
  },
  {
   "cell_type": "code",
   "execution_count": 2,
   "metadata": {},
   "outputs": [],
   "source": [
    "# Ejercicio del libro sobre funciones"
   ]
  },
  {
   "cell_type": "code",
   "execution_count": 15,
   "metadata": {},
   "outputs": [],
   "source": [
    "def media_numeros():\n",
    "    lista = list()\n",
    "    conteo = 0\n",
    "    suma_lista = 0\n",
    "    while True:\n",
    "        entrada = input(\"> \")\n",
    "        if entrada == 'q' or entrada == 'Q':\n",
    "            break\n",
    "        else:\n",
    "            try:\n",
    "                entrada = int(entrada)\n",
    "                lista.append(entrada)\n",
    "                conteo += 1\n",
    "            except:\n",
    "                print(\"Introdusca valor numerico\\n\")\n",
    "    \n",
    "    for i in lista:\n",
    "        suma_lista += i\n",
    "        \n",
    "    print(\"\\nLista: \", lista)\n",
    "    print(\"\\nNum. Element: \", conteo)\n",
    "    print(\"\\nMedia: \", suma_lista/conteo)"
   ]
  },
  {
   "cell_type": "code",
   "execution_count": 16,
   "metadata": {},
   "outputs": [
    {
     "name": "stdout",
     "output_type": "stream",
     "text": [
      "> 7\n",
      "> 8\n",
      "> 9\n",
      "> 1\n",
      "> 11\n",
      "> 12\n",
      "> 45\n",
      "> 75\n",
      "> q\n",
      "\n",
      "Lista:  [7, 8, 9, 1, 11, 12, 45, 75]\n",
      "\n",
      "Num. Element:  8\n",
      "\n",
      "Media:  21.0\n"
     ]
    }
   ],
   "source": [
    "media_numeros()"
   ]
  },
  {
   "cell_type": "code",
   "execution_count": 18,
   "metadata": {},
   "outputs": [],
   "source": [
    "def minimo(list_n):\n",
    "    mini = None\n",
    "    for i in list_n:\n",
    "        if mini== None or i<mini:\n",
    "            mini = i\n",
    "    return mini\n",
    "\n",
    "def maxi(list_n):\n",
    "    maxi = None\n",
    "    for i in list_n:\n",
    "        if maxi==None or i>maxi:\n",
    "            maxi = i\n",
    "    return maxi\n",
    "\n",
    "def min_max(list_n):\n",
    "    print(\"Minimo: \", minimo(list_n))\n",
    "    print(\"Maximo: \", maxi(list_n))"
   ]
  },
  {
   "cell_type": "code",
   "execution_count": 19,
   "metadata": {},
   "outputs": [
    {
     "name": "stdout",
     "output_type": "stream",
     "text": [
      "Minimo:  0\n",
      "Maximo:  19\n"
     ]
    }
   ],
   "source": [
    "min_max([7, 8, 1, 0, 15, 17, 6,19, 8, 9, 3])"
   ]
  }
 ],
 "metadata": {
  "kernelspec": {
   "display_name": "Python 3",
   "language": "python",
   "name": "python3"
  },
  "language_info": {
   "codemirror_mode": {
    "name": "ipython",
    "version": 3
   },
   "file_extension": ".py",
   "mimetype": "text/x-python",
   "name": "python",
   "nbconvert_exporter": "python",
   "pygments_lexer": "ipython3",
   "version": "3.9.1"
  }
 },
 "nbformat": 4,
 "nbformat_minor": 4
}
