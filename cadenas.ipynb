{
 "cells": [
  {
   "cell_type": "code",
   "execution_count": 1,
   "metadata": {},
   "outputs": [
    {
     "data": {
      "text/plain": [
       "'\\nLibro: Python Learn\\nTema: Cadenas\\nAutor: Cristhian Laureano\\n'"
      ]
     },
     "execution_count": 1,
     "metadata": {},
     "output_type": "execute_result"
    }
   ],
   "source": [
    "\"\"\"\n",
    "Libro: Python Learn\n",
    "Tema: Cadenas\n",
    "Autor: Cristhian Laureano\n",
    "\"\"\""
   ]
  },
  {
   "cell_type": "code",
   "execution_count": 5,
   "metadata": {},
   "outputs": [
    {
     "name": "stdout",
     "output_type": "stream",
     "text": [
      "Bnn\n"
     ]
    }
   ],
   "source": [
    "fruta = 'Banana'\n",
    "letra = fruta[0::2]\n",
    "print(letra)"
   ]
  },
  {
   "cell_type": "code",
   "execution_count": 7,
   "metadata": {},
   "outputs": [
    {
     "data": {
      "text/plain": [
       "6"
      ]
     },
     "execution_count": 7,
     "metadata": {},
     "output_type": "execute_result"
    }
   ],
   "source": [
    "# Funciones utilizadas en cadenas\n",
    "\n",
    "len(fruta) #longitud de la cadena"
   ]
  },
  {
   "cell_type": "code",
   "execution_count": 2,
   "metadata": {},
   "outputs": [
    {
     "data": {
      "text/plain": [
       "'l ooets'"
      ]
     },
     "execution_count": 2,
     "metadata": {},
     "output_type": "execute_result"
    }
   ],
   "source": [
    "# Recorrido por cadenas\n",
    "cadena = \"Hola como estas!\"\n",
    "cadena[1]\n",
    "cadena[2:-1:2]"
   ]
  },
  {
   "cell_type": "code",
   "execution_count": 13,
   "metadata": {},
   "outputs": [
    {
     "name": "stdout",
     "output_type": "stream",
     "text": [
      "H\n",
      "o\n",
      "l\n",
      "a\n",
      " \n",
      "c\n",
      "o\n",
      "m\n",
      "o\n",
      " \n",
      "e\n",
      "s\n",
      "t\n",
      "a\n",
      "s\n",
      "!\n"
     ]
    }
   ],
   "source": [
    "#Recorrido por una cadena mediante un bucle\n",
    "recorrido = 0\n",
    "while recorrido < len(cadena):\n",
    "    letra = cadena[recorrido]\n",
    "    print(letra)\n",
    "    recorrido += 1"
   ]
  },
  {
   "cell_type": "code",
   "execution_count": 3,
   "metadata": {},
   "outputs": [
    {
     "name": "stdout",
     "output_type": "stream",
     "text": [
      "!\n",
      "s\n",
      "a\n",
      "t\n",
      "s\n",
      "e\n",
      " \n",
      "o\n",
      "m\n",
      "o\n",
      "c\n",
      " \n",
      "a\n",
      "l\n",
      "o\n",
      "H\n"
     ]
    }
   ],
   "source": [
    "# Recorrido del final al inicio\n",
    "top = len(cadena)\n",
    "ulti = 0\n",
    "while top>ulti:\n",
    "    letra = cadena[top-1]\n",
    "    print(letra)\n",
    "    top -= 1"
   ]
  },
  {
   "cell_type": "code",
   "execution_count": 12,
   "metadata": {},
   "outputs": [
    {
     "name": "stdout",
     "output_type": "stream",
     "text": [
      "21\n",
      "31\n",
      "Extencion de correo es:  uct.ac.za\n"
     ]
    }
   ],
   "source": [
    "# Metodos de cadenas para buscar un caracter en especifico\n",
    "\n",
    "txt = \"From stephen.marquard@uct.ac.za Sat Jan 5 09:14:16 2008\"\n",
    "inicio = txt.find('@') #para el metodo 'find(sub,start,end)'\n",
    "print(inicio)\n",
    "fin = txt.find(' ',inicio)\n",
    "print(fin)\n",
    "print(\"Extencion de correo es: \", txt[inicio+1:fin])"
   ]
  },
  {
   "cell_type": "raw",
   "metadata": {},
   "source": [
    "Ejercicio 5: Toma el siguiente código en Python que almacena una ca-\n",
    "dena:\n",
    "\n",
    "str = 'X-DSPAM-Confidence:0.8475'\n",
    "\n",
    "Utiliza find y una parte de la cadena para extraer la porción de la cadena\n",
    "después del carácter dos puntos y después utiliza la función float para\n",
    "convertir la cadena extraída en un número de punto flotante."
   ]
  },
  {
   "cell_type": "code",
   "execution_count": 15,
   "metadata": {},
   "outputs": [
    {
     "name": "stdout",
     "output_type": "stream",
     "text": [
      "0.847\n"
     ]
    }
   ],
   "source": [
    "strn = 'X-DSPAM-Confidence:0.8475'\n",
    "inicio = strn.find(':')\n",
    "fin = strn.find(' ', inicio)\n",
    "code = strn[inicio+1:fin]\n",
    "print(float(code))"
   ]
  }
 ],
 "metadata": {
  "kernelspec": {
   "display_name": "Python 3",
   "language": "python",
   "name": "python3"
  },
  "language_info": {
   "codemirror_mode": {
    "name": "ipython",
    "version": 3
   },
   "file_extension": ".py",
   "mimetype": "text/x-python",
   "name": "python",
   "nbconvert_exporter": "python",
   "pygments_lexer": "ipython3",
   "version": "3.9.1"
  }
 },
 "nbformat": 4,
 "nbformat_minor": 4
}
